{
 "cells": [
  {
   "cell_type": "code",
   "execution_count": 1,
   "metadata": {},
   "outputs": [
    {
     "name": "stdout",
     "output_type": "stream",
     "text": [
      "4\n",
      "3\n"
     ]
    }
   ],
   "source": [
    "import torch\n",
    "haha = torch.zeros((1,2,3,4))\n",
    "print(len(haha.size()))\n",
    "haha = haha.squeeze()\n",
    "print(len(haha.size()))"
   ]
  },
  {
   "cell_type": "markdown",
   "metadata": {},
   "source": [
    "/home/huangfu/anaconda3/envs/mmdet/lib/python3.9/site-packages/mmdet/"
   ]
  },
  {
   "cell_type": "code",
   "execution_count": 8,
   "metadata": {},
   "outputs": [
    {
     "name": "stdout",
     "output_type": "stream",
     "text": [
      "tensor([[0, 0, 0, 0],\n",
      "        [0, 0, 0, 0],\n",
      "        [0, 0, 0, 0],\n",
      "        [0, 0, 0, 0],\n",
      "        [0, 0, 0, 0]])\n"
     ]
    }
   ],
   "source": [
    "from mmcv.parallel import DataContainer as DC\n",
    "import torch\n",
    "haha = DC(torch.zeros((5,4)))\n",
    "hehe = haha.data.size()\n",
    "hehe = DC(torch.zeros(haha.data.size(),dtype=int))\n",
    "print(hehe.data)"
   ]
  },
  {
   "cell_type": "code",
   "execution_count": 1,
   "metadata": {},
   "outputs": [
    {
     "name": "stdout",
     "output_type": "stream",
     "text": [
      "dict_keys(['info', 'licenses', 'categories', '__raw_Chinese_name_df', 'images', 'annotations'])\n"
     ]
    }
   ],
   "source": [
    "import json\n",
    "with open(\"../RPC/instances_val2019.json\") as f:\n",
    "    haha = json.load(f)\n",
    "    print(haha.keys())\n",
    "haha['categories'] = [{ \"id\": 1, \"name\": \"\"}]"
   ]
  }
 ],
 "metadata": {
  "kernelspec": {
   "display_name": "Python 3.9.12 ('mmdet')",
   "language": "python",
   "name": "python3"
  },
  "language_info": {
   "codemirror_mode": {
    "name": "ipython",
    "version": 3
   },
   "file_extension": ".py",
   "mimetype": "text/x-python",
   "name": "python",
   "nbconvert_exporter": "python",
   "pygments_lexer": "ipython3",
   "version": "3.9.12"
  },
  "orig_nbformat": 4,
  "vscode": {
   "interpreter": {
    "hash": "3e8d3d4adb54429a3f4e6014b439646f16a351db066889c9f4f4fec660e14e88"
   }
  }
 },
 "nbformat": 4,
 "nbformat_minor": 2
}
